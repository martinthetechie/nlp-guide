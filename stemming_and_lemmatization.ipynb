{
  "nbformat": 4,
  "nbformat_minor": 0,
  "metadata": {
    "colab": {
      "provenance": [],
      "authorship_tag": "ABX9TyM36+cFd4n+fScMxNb8sg6E",
      "include_colab_link": true
    },
    "kernelspec": {
      "name": "python3",
      "display_name": "Python 3"
    },
    "language_info": {
      "name": "python"
    }
  },
  "cells": [
    {
      "cell_type": "markdown",
      "metadata": {
        "id": "view-in-github",
        "colab_type": "text"
      },
      "source": [
        "<a href=\"https://colab.research.google.com/github/martinthetechie/nlp-guide/blob/main/stemming_and_lemmatization.ipynb\" target=\"_parent\"><img src=\"https://colab.research.google.com/assets/colab-badge.svg\" alt=\"Open In Colab\"/></a>"
      ]
    },
    {
      "cell_type": "code",
      "source": [
        "import nltk\n",
        "from nltk.stem import PorterStemmer, WordNetLemmatizer\n",
        "from nltk.tokenize import word_tokenize\n",
        "from nltk.corpus import wordnet\n",
        "\n",
        "# Download required resources\n",
        "nltk.download('punkt')\n",
        "nltk.download('wordnet')\n",
        "nltk.download('averaged_perceptron_tagger')\n",
        "\n",
        "# Initialize stemmer and lemmatizer\n",
        "stemmer = PorterStemmer()\n",
        "lemmatizer = WordNetLemmatizer()\n",
        "\n",
        "# List of corporate terms and lingo terms\n",
        "terms = [\"emailing\", \"replying\", \"meeting\", \"presentations\", \"reporting\", \"scheduling\"]\n",
        "\n",
        "# Stemming\n",
        "stemmed_terms = [stemmer.stem(term) for term in terms]\n",
        "\n",
        "# Lemmatization\n",
        "def get_wordnet_pos(treebank_tag):\n",
        "    if treebank_tag.startswith('J'):\n",
        "        return wordnet.ADJ\n",
        "    elif treebank_tag.startswith('V'):\n",
        "        return wordnet.VERB\n",
        "    elif treebank_tag.startswith('N'):\n",
        "        return wordnet.NOUN\n",
        "    elif treebank_tag.startswith('R'):\n",
        "        return wordnet.ADV\n",
        "    else:\n",
        "        return wordnet.NOUN\n",
        "\n",
        "lemmatized_terms = []\n",
        "for term in terms:\n",
        "    pos_tag = nltk.pos_tag(word_tokenize(term))[0][1]\n",
        "    wordnet_pos = get_wordnet_pos(pos_tag)\n",
        "    lemmatized_terms.append(lemmatizer.lemmatize(term, pos=wordnet_pos))\n",
        "\n",
        "# Print results\n",
        "print(\"Original Terms:\", terms)\n",
        "print(\"Stemmed Terms:\", stemmed_terms)\n",
        "print(\"Lemmatized Terms:\", lemmatized_terms)\n"
      ],
      "metadata": {
        "colab": {
          "base_uri": "https://localhost:8080/"
        },
        "id": "L4rjE8X6esrS",
        "outputId": "c2be0ae6-a1c5-4944-ccf0-4d978db1b8fa"
      },
      "execution_count": 3,
      "outputs": [
        {
          "output_type": "stream",
          "name": "stderr",
          "text": [
            "[nltk_data] Downloading package punkt to /root/nltk_data...\n",
            "[nltk_data]   Package punkt is already up-to-date!\n",
            "[nltk_data] Downloading package wordnet to /root/nltk_data...\n",
            "[nltk_data]   Package wordnet is already up-to-date!\n",
            "[nltk_data] Downloading package averaged_perceptron_tagger to\n",
            "[nltk_data]     /root/nltk_data...\n",
            "[nltk_data]   Unzipping taggers/averaged_perceptron_tagger.zip.\n"
          ]
        },
        {
          "output_type": "stream",
          "name": "stdout",
          "text": [
            "Original Terms: ['emailing', 'replying', 'meeting', 'presentations', 'reporting', 'scheduling']\n",
            "Stemmed Terms: ['email', 'repli', 'meet', 'present', 'report', 'schedul']\n",
            "Lemmatized Terms: ['email', 'reply', 'meeting', 'presentation', 'reporting', 'schedule']\n"
          ]
        }
      ]
    },
    {
      "cell_type": "markdown",
      "source": [
        "<h2>Stemming</h2>"
      ],
      "metadata": {
        "id": "8HZFSKhn7OVv"
      }
    },
    {
      "cell_type": "code",
      "source": [
        "import nltk\n",
        "from nltk.stem import PorterStemmer\n",
        "\n",
        "stemmer = PorterStemmer()\n",
        "words = [\"emailing\", \"replying\", \"meeting\", \"presentations\", \"reporting\", \"scheduling\"]\n",
        "stemmed_words = [stemmer.stem(word) for word in words]\n",
        "print(\"Stemmed Words:\", stemmed_words)"
      ],
      "metadata": {
        "colab": {
          "base_uri": "https://localhost:8080/"
        },
        "id": "oIj-LHrb7RWF",
        "outputId": "59617eea-129f-4a23-e437-6691f0e3d7b8"
      },
      "execution_count": 3,
      "outputs": [
        {
          "output_type": "stream",
          "name": "stdout",
          "text": [
            "Stemmed Words: ['email', 'repli', 'meet', 'present', 'report', 'schedul']\n"
          ]
        }
      ]
    },
    {
      "cell_type": "code",
      "source": [
        "import nltk\n",
        "from nltk.stem import WordNetLemmatizer\n",
        "from nltk.corpus import wordnet\n",
        "\n",
        "# Initialize the lemmatizer\n",
        "lemmatizer = WordNetLemmatizer()\n",
        "words = [\"emailing\", \"replying\", \"meeting\", \"presentations\", \"reporting\", \"scheduling\"]\n",
        "# Function to get the part of speech for lemmatization\n",
        "def get_wordnet_pos(word):\n",
        "    \"\"\"Return the part of speech for a word\"\"\"\n",
        "    tag = nltk.pos_tag([word])[0][1]\n",
        "    # print(nltk.pos_tag([word]))\n",
        "\n",
        "    if tag.startswith('J'):\n",
        "        return wordnet.ADJ\n",
        "    elif tag.startswith('V'):\n",
        "        return wordnet.VERB\n",
        "    elif tag.startswith('N'):\n",
        "        return wordnet.NOUN\n",
        "    elif tag.startswith('R'):\n",
        "        return wordnet.ADV\n",
        "    else:\n",
        "        return wordnet.NOUN\n",
        "\n",
        "lemmas = [lemmatizer.lemmatize(word, pos=get_wordnet_pos(word)) for word in words]\n",
        "print(\"Lemmas:\", lemmas)"
      ],
      "metadata": {
        "colab": {
          "base_uri": "https://localhost:8080/"
        },
        "id": "7uWCRWIH7_gq",
        "outputId": "1224697c-bc42-4a5f-a53e-2d18306717a3"
      },
      "execution_count": 4,
      "outputs": [
        {
          "output_type": "stream",
          "name": "stderr",
          "text": [
            "[nltk_data] Downloading package averaged_perceptron_tagger to\n",
            "[nltk_data]     /root/nltk_data...\n",
            "[nltk_data]   Package averaged_perceptron_tagger is already up-to-\n",
            "[nltk_data]       date!\n",
            "[nltk_data] Downloading package wordnet to /root/nltk_data...\n"
          ]
        },
        {
          "output_type": "stream",
          "name": "stdout",
          "text": [
            "[('emailing', 'VBG')]\n",
            "[('replying', 'VBG')]\n",
            "[('meeting', 'NN')]\n",
            "[('presentations', 'NNS')]\n",
            "[('reporting', 'NN')]\n",
            "[('scheduling', 'VBG')]\n",
            "Lemmas: ['email', 'reply', 'meeting', 'presentation', 'reporting', 'schedule']\n"
          ]
        }
      ]
    },
    {
      "cell_type": "code",
      "source": [],
      "metadata": {
        "id": "0yJcJ2nuPPro"
      },
      "execution_count": null,
      "outputs": []
    }
  ]
}